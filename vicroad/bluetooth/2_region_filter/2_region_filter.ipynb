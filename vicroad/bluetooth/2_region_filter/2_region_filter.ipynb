{
 "cells": [
  {
   "cell_type": "markdown",
   "source": [
    "### 2.2 Retrieve Greate Melbourne Regions"
   ],
   "metadata": {
    "collapsed": false
   }
  },
  {
   "cell_type": "code",
   "execution_count": null,
   "metadata": {
    "collapsed": true
   },
   "outputs": [],
   "source": [
    "GREATE_MELBOURNE_REGIONS = [\"Banyule\", \"Bayside\", \"Boroondara\", \"Brimbank\", \"Casey\", \"Darebin\", \"Frankston\",\n",
    "                            \"Glen Eira\", \"Greater Dandenong\", \"Hobsons Bay\", \"Hume\", \"Kingston\", \"Knox\", \"Manningham\",\n",
    "                            \"Maribyrnong\", \"Maroondah\", \"Melbourne\", \"Melton\", \"Merri-bek\", \"Monash\", \"Moonee Valley\",\n",
    "                            \"Port Phillip\", \"Stonnington\", \"Whitehorse\", \"Whittlesea\", \"Wyndham\", \"Yarra\", \"Cardinia\",\n",
    "                            \"Mornington Peninsula\", \"Nillumbik\", \"Yarra Ranges\"]\n",
    "# convert the list to lowercase\n",
    "GREATE_MELBOURNE_REGIONS_lower = [region.lower() for region in GREATE_MELBOURNE_REGIONS]\n",
    "\n",
    "# convert the DataFrame column to lowercase for the comparison\n",
    "melbourne_gdf = vic_gdf[vic_gdf[\"ABB_NAME\"].str.lower().isin(GREATE_MELBOURNE_REGIONS_lower)]\n",
    "assert len(melbourne_gdf) == len(GREATE_MELBOURNE_REGIONS)"
   ]
  }
 ],
 "metadata": {
  "kernelspec": {
   "display_name": "Python 3",
   "language": "python",
   "name": "python3"
  },
  "language_info": {
   "codemirror_mode": {
    "name": "ipython",
    "version": 2
   },
   "file_extension": ".py",
   "mimetype": "text/x-python",
   "name": "python",
   "nbconvert_exporter": "python",
   "pygments_lexer": "ipython2",
   "version": "2.7.6"
  }
 },
 "nbformat": 4,
 "nbformat_minor": 0
}
